{
  "nbformat": 4,
  "nbformat_minor": 0,
  "metadata": {
    "coursera": {
      "course_slug": "neural-networks-deep-learning",
      "graded_item_id": "XaIWT",
      "launcher_item_id": "zAgPl"
    },
    "kernelspec": {
      "display_name": "Python 3",
      "language": "python",
      "name": "python3"
    },
    "language_info": {
      "codemirror_mode": {
        "name": "ipython",
        "version": 3
      },
      "file_extension": ".py",
      "mimetype": "text/x-python",
      "name": "python",
      "nbconvert_exporter": "python",
      "pygments_lexer": "ipython3",
      "version": "3.8.3"
    },
    "colab": {
      "name": "Homework_02-checkpoint.ipynb",
      "provenance": [],
      "collapsed_sections": [],
      "toc_visible": true
    }
  },
  "cells": [
    {
      "cell_type": "markdown",
      "metadata": {
        "id": "6b1IgUwB2z_d"
      },
      "source": [
        "# Logistic Regression Homework\n",
        "\n",
        "This is the 2nd assignment for CAP 4630 and we will implement logistic regression and apply it to two\n",
        "different datasets. \\\n",
        "You will use **\"Tasks\"** and **\"Hints\"** to finish the work. **(Total 100 Points)** \\\n",
        "You are **not** allowed to use Machine Learning libaries such as Scikit-learn and Keras.\n",
        "\n",
        "**Task Overview:**\n",
        "- Logistic Regression \n",
        "- Regularized logistic regression"
      ]
    },
    {
      "cell_type": "markdown",
      "metadata": {
        "id": "JF48xl0v2z_e"
      },
      "source": [
        "## 1 - Logistic Regression ##\n",
        "### 1.1 Packages\n",
        "\n",
        "Import useful packages for scientific computing and data processing. \n",
        "\n",
        "**Tasks:**\n",
        "1. Import numpy and rename it to np.\n",
        "2. Import pandas and rename it to pd.\n",
        "3. Import the pyplot function in the libraray of matplotlib and rename it to plt.\n",
        "\n",
        "References:\n",
        "- [numpy](www.numpy.org) is the fundamental package for scientific computing with Python.\n",
        "- [matplotlib](http://matplotlib.org) is a famous library to plot graphs in Python.\n",
        "\n",
        "**Attention:**\n",
        "1. After this renaming, you will use the new name to call functions. For example, **numpy** will become **np** in the following sections."
      ]
    },
    {
      "cell_type": "code",
      "metadata": {
        "id": "yHywVo8M2z_f"
      },
      "source": [
        "# Import and rename libraries here\n",
        "import numpy as np\n",
        "import pandas as pd\n",
        "import matplotlib.pyplot as plt"
      ],
      "execution_count": 1,
      "outputs": []
    },
    {
      "cell_type": "markdown",
      "metadata": {
        "collapsed": true,
        "id": "dBC0Z67e2z_j"
      },
      "source": [
        "### 1.2 - Data Preparation ##\n",
        "\n",
        "Prepare the data for regression task. **(5 Points)**\n",
        "\n",
        "**Tasks:**\n",
        "1. Load data for logistic regression.\n",
        "2. Generate the scatter plot of the data.\n",
        "\n",
        "**Hints:**\n",
        "1. The data file is \"data_logistic.csv\", which are exam scores for students.\n",
        "2. The data is organized by column: x1 (exam 1 score), x2 (exam 2 score), and label y (pass 1 or fail 0).\n",
        "3. Please use different colors for postive(label=1) and negative(label=0) data.\n",
        "4. An example of scatter plots is shown below.\n",
        "![mxplusc](data_plots.png)"
      ]
    },
    {
      "cell_type": "code",
      "metadata": {
        "id": "WPgQskZ62z_j",
        "outputId": "b06e0dbc-b3ac-4d87-b77e-aa11064a400e",
        "colab": {
          "base_uri": "https://localhost:8080/",
          "height": 388
        }
      },
      "source": [
        "# Preprocess input data and generate plots\n",
        "plt.rcParams['figure.figsize'] = (8.0, 6.0)\n",
        "\n",
        "data = pd.read_csv('data_logistic.csv')\n",
        "X1 = np.array([data.iloc[:, 0].values.tolist()])\n",
        "X2 = np.array([data.iloc[:, 1].values.tolist()])\n",
        "Y = np.array([data.iloc[:, 2].values.tolist()])\n",
        "y = Y\n",
        "\n",
        "X1_fail = []\n",
        "X2_fail = []\n",
        "X1_passed = []\n",
        "X2_passed = []\n",
        "i = 0\n",
        "\n",
        "for num in Y[0]:\n",
        "  if Y[0][i] == 0:\n",
        "    X1_fail.append(X1[0][i])\n",
        "    X2_fail.append(X2[0][i])\n",
        "    i += 1\n",
        "  else:\n",
        "    X1_passed.append(X1[0][i])\n",
        "    X2_passed.append(X2[0][i])\n",
        "    i += 1\n",
        "\n",
        "plt.scatter(X1_passed, X2_passed,s = 80, color = 'black', marker='+')\n",
        "plt.scatter(X1_fail, X2_fail,s = 80, color = 'green')\n",
        "plt.xlabel(\"x1\")\n",
        "plt.ylabel(\"x2\")\n",
        "\n",
        "plt.show()\n",
        "\n",
        "i = 0\n"
      ],
      "execution_count": 2,
      "outputs": [
        {
          "output_type": "display_data",
          "data": {
            "image/png": "[encoded data removed]",
            "text/plain": [
              "<Figure size 576x432 with 1 Axes>"
            ]
          },
          "metadata": {
            "tags": [],
            "needs_background": "light"
          }
        }
      ]
    },
    {
      "cell_type": "markdown",
      "metadata": {
        "id": "0a4k9bcT2z_m"
      },
      "source": [
        "### 1.3 - Sigmoid function ##\n",
        "\n",
        "\n",
        "Implement sigmoid function so it can be called by the rest of your program. **(10 Points)**\n",
        "\n",
        "**Tasks:**\n",
        "1. Implement the sigmoid function (**def sigmoid(z):**). \n",
        "2. Test the sigmoid function by function plotting with test data (X, Y) where Y = sigmoid(X). \n",
        "\n",
        "**Hints:**  \n",
        "1. Given the class material, sigmoid function is defined as:\n",
        "$g(z) = \\frac{1}{1+e^{-z}}$.\n",
        "2. You may consider X = np.linspace(-5, 5, 1000) to plot the curve.\n",
        "3. Plot Y against X.\n",
        "4. An example of plot for validation is shown below:\n",
        "![mxplusc](sigmoid_illustration.jpg)"
      ]
    },
    {
      "cell_type": "code",
      "metadata": {
        "id": "dSeXB8Jh2z_n"
      },
      "source": [
        "# Implement sigmoid fuction here\n",
        "def sigmoid(z):\n",
        "  g = 1 / (1 + np.exp(-z))\n",
        "  return g\n"
      ],
      "execution_count": 62,
      "outputs": []
    },
    {
      "cell_type": "code",
      "metadata": {
        "id": "3bqbu7_N2z_q",
        "outputId": "35ae4bce-eb9c-49b0-8439-717add52a694",
        "colab": {
          "base_uri": "https://localhost:8080/",
          "height": 405
        }
      },
      "source": [
        "# Plot data here\n",
        "X = np.linspace(-5, 5, 1000)\n",
        "Y = sigmoid(X)\n",
        "plt.scatter(X, Y, s = 1, color = 'blue')\n",
        "plt.xlabel(\"X\")\n",
        "plt.ylabel(\"g (X)\")\n"
      ],
      "execution_count": 63,
      "outputs": [
        {
          "output_type": "execute_result",
          "data": {
            "text/plain": [
              "Text(0, 0.5, 'g (X)')"
            ]
          },
          "metadata": {
            "tags": []
          },
          "execution_count": 63
        },
        {
          "output_type": "display_data",
          "data": {
            "image/png": "[encoded data removed]",
            "text/plain": [
              "<Figure size 576x432 with 1 Axes>"
            ]
          },
          "metadata": {
            "tags": [],
            "needs_background": "light"
          }
        }
      ]
    },
    {
      "cell_type": "markdown",
      "metadata": {
        "id": "0O-RQEMm2z_s"
      },
      "source": [
        "### 1.4 - Cost function and gradient ##\n",
        "\n",
        "Implement the cross entropy cost function and its gradient for logistic regression. **(20 Points)**\n",
        "\n",
        "**Tasks:**\n",
        "1. Implement the \"cal_cost\" to compute the cost.\n",
        "2. Implement the \"cal_grad\" to compute the gradients.\n",
        "3. Test \"cal_cost\" and \"cal_grad\" with initial values and print out the results.\n",
        "\n",
        "**Hint:**\n",
        "1. The cross entropy cost function (J(θ)) in logistic regression is shown below. It involves two terms, including ylog(h) and (1-y)log(1-h) where h is the function of x.\n",
        "![mxplusc](equation_J.jpg)\n",
        "2. The gradient of the cost J(θ) is a vector of the same length as θ where the $j$th element (for $j = 0, 1, . . . , n)$ is defined below. You may do a hand calculation to justify the first order derivative with the term above.\n",
        "![mxplusc](equation_theta.jpg)\n",
        "3. When you implement J(θ), please use eps = 1e-15 to prevent possible \"divide by 0 exception\" in second term. You may think about the reason.\n",
        "4. You may consider the below templates for two functions:\n",
        "\n",
        "    def cal_cost(theta, X, y):\n",
        " \n",
        "        htheta = ...\n",
        "        term1 = ...  /* matrix_multiplication(log(htheta), y)\n",
        "        term2 = ...  /* matrix_multiplication(log(1-htheta+eps), (1-y))\n",
        "        J = - 1 / m * (term1 + term2) \n",
        "        \n",
        "        return cost\n",
        "        \n",
        "    \n",
        "    def cal_grad(theta, X, y):\n",
        "        \n",
        "        htheta = ...\n",
        "        term1 = ... /* matrix_multiplication(transpose(X), (htheta - y))  //you may think about why transpose(x)\n",
        "        grad = 1 / m * term1 \n",
        "    \n",
        "        return grad\n",
        "5. It involves matrix multiplication and you may consider the function of np.matmul or np.dot.   \n",
        "        \n",
        "6. Initialize the intercept term with **ones** and the theta with **zeros**. Test the functions with these initial values. \\\n",
        "    **Expected outputs:**\\\n",
        "    Cost at initial theta : 0.6931471805599445\\\n",
        "    Gradient at inital theta : [-0.1        -10.91242026 -11.73652937]\n"
      ]
    },
    {
      "cell_type": "code",
      "metadata": {
        "id": "Cah519b22z_t",
        "outputId": "ba5df257-c153-408a-8c8e-9485af3d35da",
        "colab": {
          "base_uri": "https://localhost:8080/",
          "height": 68
        }
      },
      "source": [
        "# Implement the cost function here\n",
        "theta = np.array([0,0,0])\n",
        "X = np.array([np.ones(len(y[0])),X1[0],X2[0]])\n",
        "eps = 1e-15\n",
        "\n",
        "\n",
        "\n",
        "def cal_cost(theta, X, y):\n",
        "  htheta = sigmoid(np.dot(np.transpose(X), theta))\n",
        "  term1 = np.dot(np.log(htheta),y[0]) # matrix_multiplication(log(htheta), y)\n",
        "  term2 = np.dot(np.log(1 - htheta+eps),(1-y[0]))  # matrix_multiplication(log(1-htheta+eps), (1-y))\n",
        "  J = - 1 / 80 * (term1 + term2) \n",
        "  return J\n",
        "\n",
        "############################################\n",
        "def cal_grad(theta, X, y):\n",
        "  htheta = sigmoid(np.dot(np.transpose(X), theta))\n",
        "  term1 = np.dot(X, np.transpose(htheta - y)) # matrix_multiplication(transpose(X), (htheta - y))  //you may think about why transpose(x)\n",
        "  grad = 1 / 80 * term1 \n",
        "  return grad\n",
        "    \n",
        "J = cal_cost(theta,X,y)  \n",
        "grad = cal_grad(theta, X, y)\n",
        "grad = np.reshape(grad, (1,3))\n",
        "print ('Cost at initial theta: {0}'.format(J))\n",
        "print ('Gradient at inital theta:\\n {0}'.format(grad[0]))\n"
      ],
      "execution_count": 43,
      "outputs": [
        {
          "output_type": "stream",
          "text": [
            "Cost at initial theta: 0.6931471805599445\n",
            "Gradient at inital theta:\n",
            " [ -0.1        -10.91242026 -11.73652937]\n"
          ],
          "name": "stdout"
        }
      ]
    },
    {
      "cell_type": "markdown",
      "metadata": {
        "id": "Ljubb_2Q2z_w"
      },
      "source": [
        "## 1.5 Train parameters with Gradient Descent ##\n",
        "\n",
        "\n",
        "Train parameters using Gradient Descent. **(10 Points)**\n",
        "\n",
        "**Tasks:**\n",
        "1. Calculate best fit theta by Gradient Descent with learning rate of **0.001** and epoch of **800K**. The initial theta from above blocks is used as initial values.\n",
        "2. Print out the best theta (the last one is considered as the best here) and its corresponding cost.\n",
        "3. Plot the decision boundary.\n",
        "\n",
        "**Hints:**\n",
        "1. You may take gradient descent in homework 1 as an template.\n",
        "2. The validation of first 5 epochs (updated theta and cost): \\\n",
        "------Epoch 0------\\\n",
        "Theta: [0.0001     0.01091242 0.01173653]\\\n",
        "Cost: 0.6996118077359638\\\n",
        "------Epoch 1------\\\n",
        "Theta: [-0.0001129   0.00053949  0.00229352]\\\n",
        "Cost: 0.6649331468590681\\\n",
        "------Epoch 2------\\\n",
        "Theta: [-5.93604956e-05  8.33145873e-03  1.07754324e-02]\\\n",
        "Cost: 0.6679914364992459\\\n",
        "------Epoch 3------\\\n",
        "Theta: [-0.0002356   0.0004607   0.00370829]\\\n",
        "Cost: 0.6545873034874964\\\n",
        "------Epoch 4------\\\n",
        "Theta: [-0.00020363  0.00683227  0.01065138]\\\n",
        "Cost: 0.6563302142684528\n",
        "3. You may take the plots below as an exmample: \n",
        "![mxplusc](decision_boundary_01.png)\n",
        "4. It may take ~1 min to finish running."
      ]
    },
    {
      "cell_type": "code",
      "metadata": {
        "id": "cP_7Us-N2z_x",
        "outputId": "9588386f-9142-4365-8163-eb7c3784ed79",
        "colab": {
          "base_uri": "https://localhost:8080/",
          "height": 156
        }
      },
      "source": [
        "# Gradient Descent Implementation Here\n",
        "# Build the model\n",
        "m1 = grad[0][0]\n",
        "m2 = grad[0][1]\n",
        "m3 = grad[0][2]\n",
        "\n",
        "L = 0.001  # The learning Rate\n",
        "epochs = 800000  # The number of iterations to perform gradient descent\n",
        "\n",
        "n = float(len(X[0])) # Number of elements in X\n",
        "\n",
        "# print(float(len(X)))\n",
        "\n",
        " #print(float(len(Y)))\n",
        "\n",
        "# Performing Gradient Descent \n",
        "for i in range(epochs):\n",
        "    Y_pred = sigmoid(m1 + m2 * X + m3 * X)  # The current predicted value of Y\n",
        "    D_m1 = (1/n) * sum((Y_pred - y)*X)  # Derivative wrt m1\n",
        "    D_m2 = (1/n) * sum((Y_pred - y)*X)  # Derivative wrt m2\n",
        "    D_m3 = (1/n) * sum((Y_pred - y)*X)  # Derivative wrt m3\n",
        "    m1 = m1 - L * D_m1  # Update m1\n",
        "    m2 = m2 - L * D_m2  # Update m2\n",
        "    m3 = m3 - L * D_m3  # Update m3\n",
        "    if i < 5:\n",
        "      print(\"echo \" , i , \": \", m1[i], m2[i], m3[i]) # Debugging output"
      ],
      "execution_count": 61,
      "outputs": [
        {
          "output_type": "stream",
          "text": [
            "/usr/local/lib/python3.6/dist-packages/ipykernel_launcher.py:3: RuntimeWarning: overflow encountered in exp\n",
            "  This is separate from the ipykernel package so we can avoid doing imports until\n"
          ],
          "name": "stderr"
        },
        {
          "output_type": "stream",
          "text": [
            "echo  0 :  -0.10000000000000166 -10.912420264687501 -11.736529367687504\n",
            "echo  1 :  -0.10000000000000331 -10.912420264687503 -11.736529367687506\n",
            "echo  2 :  -0.10000000000000496 -10.912420264687505 -11.736529367687508\n",
            "echo  3 :  -0.10000000000000661 -10.912420264687507 -11.73652936768751\n",
            "echo  4 :  -0.10000000000000826 -10.912420264687508 -11.736529367687512\n"
          ],
          "name": "stdout"
        }
      ]
    },
    {
      "cell_type": "code",
      "metadata": {
        "id": "m8tmw7u22z_0"
      },
      "source": [
        "# Draw Decision Boundary Here\n",
        "\n"
      ],
      "execution_count": null,
      "outputs": []
    },
    {
      "cell_type": "markdown",
      "metadata": {
        "id": "XTu1F0zF2z_4"
      },
      "source": [
        "\n",
        "### 1.6 Evaluating Logistic Regression\n",
        "\n",
        "Evaluate the model with given data. **(5 Points)**\n",
        "\n",
        "**Tasks:**\n",
        "1. Calculate the training accuracy and print it out\n",
        "2. Evaluate the predicted probability of the learnt model with x1 = 56 and x2 = 32 and print it out.\n",
        "\n",
        "\n",
        "**Hints:**  \n",
        "1. Positive(prediction>0.5) and negative(prediction<=0.5). \n",
        "2. The prediction results are based on acceptance probability. Given the two exam scores, we expected the model yields either high probability of \"fail\" or low probability of \"pass\".\n",
        "3. Training accuracy should be high enough, like above 87%."
      ]
    },
    {
      "cell_type": "code",
      "metadata": {
        "id": "00Z5Ldzh2z_4"
      },
      "source": [
        "# Evaluate the model\n",
        "\n",
        "\n",
        "\n"
      ],
      "execution_count": null,
      "outputs": []
    },
    {
      "cell_type": "markdown",
      "metadata": {
        "id": "fOUM1oa42z_6"
      },
      "source": [
        "\n",
        "## 2 - Regularized Logistic Regression ##\n",
        "### 2.1 - Data Preparation\n",
        "\n",
        "Prepare the data for regression task. **(5 Points)**\n",
        "\n",
        "**Tasks:**\n",
        "1. Load data for logistic regression.\n",
        "2. Generate the scatter plot of the data.\n",
        "\n",
        "**Hints:**\n",
        "1. The data file is \"data_reg_logistic.csv\".\n",
        "2. The data is organized by columns with : x1, x2 and label y.\n",
        "3. Try different scatter styles for postive(label=1) and negative(label=0) data.\n",
        "4. An example of scatter plots is shown below. Obviously, it is difficult to obtain a accurate linear boundary.\n",
        "![mxplusc](data_plots_2.png)"
      ]
    },
    {
      "cell_type": "code",
      "metadata": {
        "id": "5-DHQtPO2z_7"
      },
      "source": [
        "# Visualize the data here\n",
        "\n"
      ],
      "execution_count": null,
      "outputs": []
    },
    {
      "cell_type": "markdown",
      "metadata": {
        "id": "m13K298p2z_-"
      },
      "source": [
        "### 2.2 - Feature Mapping\n",
        "\n",
        "To obtain nonlinear boundary, we map the features into higher dimension.  **(5 Points)**\n",
        "\n",
        "**Tasks:**\n",
        "1. Map the 2-dimension features into all polynomial terms of x1 and x2 up to the 6th power.\n",
        "\n",
        "**Hints:**\n",
        "1. Mapping rule is similar to projection function which encodes input variables to new values. The example below shows input x will be encoded to a vector.\n",
        "![mxplusc](map_feature.png)\n",
        "2. Try the template below to implement your function: \n",
        "\n",
        "    def mapFeatures(data, degrees=6):\n",
        "        for i in all degrees\n",
        "            for j from 0 to i+1\n",
        "                X = X.append(X1^(i-j) * X2^j) /* Check the polynomial kernel function format. Consider np.hstack function.\n",
        "        return X\n",
        "\n",
        "3. Validation for mapFeature(np.array([[0,1]])) is \\\n",
        "[[1. 0. 1. 0. 0. 1. 0. 0. 0. 1. 0. 0. 0. 0. 1. 0. 0. 0. 0. 0. 1. 0. 0. 0. 0. 0. 0. 1.]]"
      ]
    },
    {
      "cell_type": "code",
      "metadata": {
        "id": "dbqobfqk2z__"
      },
      "source": [
        "# Mapping fuction here: def mapFeatures(data, degree):\n",
        "\n",
        "#def mapFeature(data, degrees=6):\n",
        "#\n",
        "#    for ii in range(1, degrees+1):\n",
        "#        for jj in range(0,ii+1):\n",
        "#            X = np.hstack((X, (X1**(ii-jj) * X2**jj).reshape(m,1)))\n",
        "#    return X\n",
        "\n"
      ],
      "execution_count": null,
      "outputs": []
    },
    {
      "cell_type": "markdown",
      "metadata": {
        "id": "RIFCAO7W20AC"
      },
      "source": [
        "### 2.3 - Cost function and gradient\n",
        "\n",
        "Implement the cost function and gradient for regularized logistic regression. **(20 Points)**\n",
        "\n",
        "**Tasks:**\n",
        "1. Implement the \"cal_reg_cost\" to compute the cost.\n",
        "2. Implement the \"cal_reg_grad\" to compute the gradients.\n",
        "3. Test the the two functions with initial values.\n",
        "\n",
        "**Hint:**\n",
        "1. The regularized cost function in logistic regression is similar to the previous one, but with a regularization term. \n",
        "![mxplusc](equation_J_reg.png)\n",
        "2. The gradient of the cost is a vector of the same length as θ where the $j$th element (for $j = 0, 1, . . . , n)$ is defined as follows. Here, the first constant term will not be regularized. The reason could be found in *The Elements of Statistical Learning by Hastie et al. (P.63-64)* if you are curious.\n",
        "![mxplusc](equation_theta_reg.jpg)\n",
        "![mxplusc](equation_theta_reg_2.jpg)\n",
        "3. Use eps = 1e-15 to prevent divide by 0 exception. Set regularization parameter **lam** to **1**\n",
        "4. You may consider the below templates for two functions:\n",
        "\n",
        "    def cal_reg_cost(theta, X, y, lam):\n",
        "        htheta = ...\n",
        "        term1 = ...\n",
        "        term2 = ...\n",
        "        term3 =  ...\n",
        "        J = - 1 / m * (term1 + term2 - term3) \n",
        "        \n",
        "        return cost\n",
        "    \n",
        "    def cal_reg_grad(theta, X, y, lam):\n",
        "    \n",
        "        htheta = ...\n",
        "        term1 = ...\n",
        "        term2 = ...\n",
        "        grad = 1 / m * (term1 + term2)\n",
        "    \n",
        "        return grad\n",
        "    \n",
        "\n",
        "5. Initialize the intercept term with **ones** and theta with **zeros**. Test the functions with initial values.\n",
        "\n",
        "  **Validation**: \\\n",
        "  Cost at initial theta : 0.6931471805599442 \\\n",
        "  Gradient at inital theta : \\\n",
        "  [0.05    &nbsp;   0.03146256 &nbsp; 0.03589577 &nbsp;0.06512186 &nbsp;0.01044212\\\n",
        "  0.05812127 &nbsp; 0.02379224 &nbsp; 0.01121763 &nbsp; 0.01050091 &nbsp; 0.04185155\\\n",
        "  0.04795375 &nbsp; 0.00272593 &nbsp; 0.01551233 &nbsp; 0.00339255 &nbsp; 0.05331224\\\n",
        "  0.02385013 &nbsp; 0.00614284 &nbsp; 0.00382781 &nbsp; 0.00746595 &nbsp; 0.00566102\\\n",
        "  0.043769   &nbsp; 0.03690049 &nbsp; 0.00163929 &nbsp; 0.00723665 &nbsp; 0.00091111\\\n",
        "  0.00827412 &nbsp; 0.0017557  &nbsp; 0.05035145]"
      ]
    },
    {
      "cell_type": "code",
      "metadata": {
        "id": "iKwJnzqT20AC"
      },
      "source": [
        "# Implement the cost function here\n",
        "\n",
        "# def cal_reg_cost(theta, X, y, lam):\n",
        "    \n",
        "#     # compute the hypothesis\n",
        "#     htheta = \n",
        "        \n",
        "#     # compute J in three terms\n",
        "#     term1 = \n",
        "#     term2 = \n",
        "#     term3 =  \n",
        "\n",
        "#     # cost function\n",
        "#     J = - 1 / m * (term1 + term2 - term3) \n",
        "    \n",
        "#     return J\n",
        "\n",
        "############################################\n",
        "# def cal_reg_grad(theta, X, y, lam):\n",
        "    \n",
        "#     # compute the hypothesis\n",
        "#     htheta = \n",
        "    \n",
        "#     # gradient\n",
        "#     grad = \n",
        "            \n",
        "#     return grad\n",
        "    \n",
        "\n",
        "\n",
        "# print ('Cost at initial theta: {0}'.format(J))\n",
        "# print ('Gradient at inital theta:\\n {0}'.format(grad))\n",
        "\n"
      ],
      "execution_count": null,
      "outputs": []
    },
    {
      "cell_type": "markdown",
      "metadata": {
        "id": "Oo6t8gOm20AF"
      },
      "source": [
        "## 2.4 Train parameters with Gradient Descent ##\n",
        "\n",
        "\n",
        "Train parameters with Gradient Descent. **(10 Points)**\n",
        "\n",
        "**Tasks:**\n",
        "1. Implement GD function to optimize parameters.\n",
        "2. Print out the best theta (the last one is considered as the best here) and its corresponding cost.\n",
        "3. Plot the decision boundary.\n",
        "\n",
        "**Hints:**\n",
        "1. Calculate best fit theta by Gradient Descent with learning rate of **0.001**, epoch of **800K**, and lambda **1**. The initial theta from above blocks is used as initial values.\n",
        "2. Validation results for first 3 epochs:\\\n",
        "------Epoch 0------\\\n",
        "Best fit theta: \\\n",
        "[-5.00000000e-05 -3.14625580e-05 -3.58957700e-05 -6.51218577e-05\n",
        " -1.04421167e-05 -5.81212666e-05 -2.37922390e-05 -1.12176321e-05\n",
        " -1.05009072e-05 -4.18515520e-05 -4.79537494e-05 -2.72592921e-06\n",
        " -1.55123328e-05 -3.39254609e-06 -5.33122440e-05 -2.38501348e-05\n",
        " -6.14284478e-06 -3.82780648e-06 -7.46594607e-06 -5.66102417e-06\n",
        " -4.37690001e-05 -3.69004876e-05 -1.63928681e-06 -7.23665148e-06\n",
        " -9.11107182e-07 -8.27412363e-06 -1.75570322e-06 -5.03514495e-05]\\\n",
        "Cost function at best fit theta: 0.6931200736183647\\\n",
        "------Epoch 1------\\\n",
        "Best fit theta:\\\n",
        "[-9.99660872e-05 -6.29180045e-05 -7.17762192e-05 -1.30232876e-04\n",
        " -2.08833542e-05 -1.16226611e-04 -4.75791514e-05 -2.24326894e-05\n",
        " -2.10002834e-05 -8.36911234e-05 -9.59008610e-05 -5.45120938e-06\n",
        " -3.10221132e-05 -6.78469307e-06 -1.06612424e-04 -4.76958444e-05\n",
        " -1.22845790e-05 -7.65483587e-06 -1.49304702e-05 -1.13213871e-05\n",
        " -8.75273807e-05 -7.37959678e-05 -3.27810252e-06 -1.44722935e-05\n",
        " -1.82196550e-06 -1.65468641e-05 -3.51116570e-06 -1.00692168e-04]\\\n",
        "Cost function at best fit theta: 0.6930929809256421\\\n",
        "------Epoch 2------\\\n",
        "Best fit theta: \\\n",
        "[-1.49898275e-04 -9.43663412e-05 -1.07641353e-04 -1.95333057e-04\n",
        " -3.13237127e-05 -1.74316038e-04 -7.13607385e-05 -3.36451729e-05\n",
        " -3.14981290e-05 -1.25518718e-04 -1.43841337e-04 -8.17584068e-06\n",
        " -4.65293421e-05 -1.01764410e-05 -1.59900545e-04 -7.15371301e-05\n",
        " -1.84252031e-05 -1.14810884e-05 -2.23935728e-05 -1.69810890e-05\n",
        " -1.31275145e-04 -1.10686442e-04 -4.91644726e-06 -2.17069264e-05\n",
        " -2.73257501e-06 -2.48182220e-05 -5.26638746e-06 -1.51022159e-04]\\\n",
        "Cost function at best fit theta: 0.6930659024719215\n",
        "\n",
        "3. Decision boundary result may look like the one below. You may consider plt.contour. https://matplotlib.org/3.3.1/api/_as_gen/matplotlib.pyplot.contour.html\n",
        "![mxplusc](decision_boundary.png)\n",
        "4. It may take ~1 min to finish running."
      ]
    },
    {
      "cell_type": "code",
      "metadata": {
        "id": "lpFVjKyA20AG"
      },
      "source": [
        "# Learning and plot here\n",
        "\n",
        "    \n",
        "# print ('Best fit theta: {0}'.format(theta))\n",
        "# print ('Cost function at best fit theta: {0}'.format(cal_reg_cost(theta, X, y, lam)))\n"
      ],
      "execution_count": null,
      "outputs": []
    },
    {
      "cell_type": "code",
      "metadata": {
        "id": "9yXAW12f20AJ"
      },
      "source": [
        "# Plot Boundary Contour Here\n"
      ],
      "execution_count": null,
      "outputs": []
    },
    {
      "cell_type": "markdown",
      "metadata": {
        "id": "caMcrvZz20AO"
      },
      "source": [
        "## 2.5 Varying the Regularization parameter ##\n",
        "\n",
        "\n",
        "Modifying the value of regularization term lambda to see how the decision boundry changes. **(10 Points)**\n",
        "\n",
        "**Tasks:**\n",
        "1. Set lambda to be different values (0.01, 1, 10, 20) and plot the results.\n",
        "2. Print out the best lambda and the corresponding training accuracy.\n",
        "\n",
        "**Hints:**\n",
        "1. With the developed functions above, specify varying lambda values\n",
        "2. Initial thetas are the same.\n",
        "3. When lams = [0.01, 1, 10 , 20], you may obtain the similar plots below.\n",
        "![mxplusc](decision_boundary_set.png)\n",
        "4. It may take 3~4 mins to finish running."
      ]
    },
    {
      "cell_type": "code",
      "metadata": {
        "id": "rTuvVC2t20AO"
      },
      "source": [
        "#Varying the Regularization parameter\n",
        "\n",
        "# lams = [0.01, 1, 10, 20]\n",
        "# best_acc = 0\n",
        "# best_lam = -1\n",
        "# for ct, lam in enumerate(lams):\n",
        "\n",
        "\n",
        "# print('best acc',best_acc)\n",
        "# print('best lam',best_lam)\n"
      ],
      "execution_count": null,
      "outputs": []
    },
    {
      "cell_type": "code",
      "metadata": {
        "id": "RkOMRC5O20AR"
      },
      "source": [
        ""
      ],
      "execution_count": null,
      "outputs": []
    }
  ]
}